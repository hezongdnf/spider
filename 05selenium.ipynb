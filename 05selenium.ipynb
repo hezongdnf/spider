{
 "cells": [
  {
   "cell_type": "code",
   "execution_count": 1,
   "metadata": {
    "collapsed": true,
    "pycharm": {
     "name": "#%%\n"
    }
   },
   "outputs": [],
   "source": [
    "# 从selenium中直接提取数据\n",
    "# 先pip install selenium\n",
    "# 根据版本下载驱动: chormedriver: http://chromedriver.storage.googleapis.com/\n",
    "# 把下载的文件放在python解释权所在的文件夹\n",
    "\n",
    "from selenium.webdriver import Chrome\n",
    "\n",
    "web = Chrome()\n",
    "\n",
    "url = \"https://www.baidu.com\"\n",
    "\n",
    "web.get(url)\n",
    "\n",
    "print(web.title)"
   ]
  },
  {
   "cell_type": "code",
   "execution_count": 1,
   "outputs": [
    {
     "ename": "TypeError",
     "evalue": "find_element_by_xpath() missing 1 required positional argument: 'xpath'",
     "output_type": "error",
     "traceback": [
      "\u001B[0;31m---------------------------------------------------------------------------\u001B[0m",
      "\u001B[0;31mTypeError\u001B[0m                                 Traceback (most recent call last)",
      "\u001B[0;32m<ipython-input-1-41a8d41757b9>\u001B[0m in \u001B[0;36m<module>\u001B[0;34m\u001B[0m\n\u001B[1;32m     17\u001B[0m \u001B[0minput\u001B[0m\u001B[0;34m.\u001B[0m\u001B[0msend_keys\u001B[0m\u001B[0;34m(\u001B[0m\u001B[0;34m\"python\"\u001B[0m\u001B[0;34m,\u001B[0m \u001B[0mKeys\u001B[0m\u001B[0;34m.\u001B[0m\u001B[0mENTER\u001B[0m\u001B[0;34m)\u001B[0m\u001B[0;34m\u001B[0m\u001B[0;34m\u001B[0m\u001B[0m\n\u001B[1;32m     18\u001B[0m \u001B[0;34m\u001B[0m\u001B[0m\n\u001B[0;32m---> 19\u001B[0;31m \u001B[0mli_list\u001B[0m \u001B[0;34m=\u001B[0m \u001B[0mweb\u001B[0m\u001B[0;34m.\u001B[0m\u001B[0mfind_element_by_xpath\u001B[0m\u001B[0;34m(\u001B[0m\u001B[0;34m)\u001B[0m\u001B[0;34m\u001B[0m\u001B[0;34m\u001B[0m\u001B[0m\n\u001B[0m",
      "\u001B[0;31mTypeError\u001B[0m: find_element_by_xpath() missing 1 required positional argument: 'xpath'"
     ]
    }
   ],
   "source": [
    "from selenium.webdriver import Chrome\n",
    "from selenium.webdriver.common.keys import Keys\n",
    "import time\n",
    "\n",
    "web = Chrome()\n",
    "\n",
    "web.get(\"http://lagou.com\")\n",
    "\n",
    "# 点击按钮\n",
    "web.find_element_by_xpath('//*[@id=\"changeCityBox\"]/p[1]/a').click()\n",
    "\n",
    "time.sleep(1) # 给浏览器反应时间\n",
    "\n",
    "# 找到输入框，输入回车/点击搜索\n",
    "web.find_element_by_xpath('//*[@id=\"search_input\"]').send_keys(\"python\", Keys.ENTER)\n",
    "\n",
    "time.sleep(1)\n",
    "\n",
    "# 打开新的链接\n",
    "web.find_element_by_xpath('//*[@id=\"s_position_list\"]/ul/li[1]/div[1]/div[1]/div[1]/a/h3').click()\n",
    "\n",
    "# selenium默认不切换窗口\n",
    "web.switch_to.window(web.window_handles[-1])\n",
    "\n",
    "job_detail = web.find_element_by_xpath('//*[@id=\"job_detail\"]/dd[2]/div').text\n",
    "\n",
    "print(job_detail)\n",
    "\n",
    "# 关闭当前选择的窗口\n",
    "web.close()\n",
    "\n",
    "# 回到之前的窗口\n",
    "web.switch_to.window(web.window_handles[0])\n",
    "\n",
    "print(web.find_element_by_xpath('//*[@id=\"s_position_list\"]/ul/li[1]/div[1]/div[1]/div[1]/a/h3').text)"
   ],
   "metadata": {
    "collapsed": false,
    "pycharm": {
     "name": "#%%\n"
    }
   }
  },
  {
   "cell_type": "code",
   "execution_count": null,
   "outputs": [],
   "source": [
    "from selenium.webdriver import Chrome\n",
    "from selenium.webdriver.chrome.options import Options\n",
    "\n",
    "opt = Options()\n",
    "opt.add_argument(\"--headless\") # 不显示页面\n",
    "\n",
    "web = Chrome(options=opt)\n",
    "\n",
    "web.get(\"https://baidu.com\")\n",
    "\n",
    "print(web.page_source)\n",
    "\n",
    "# Elements 和 页面源代码 不一定一样\n",
    "# web.page_source 拿到Elements\n"
   ],
   "metadata": {
    "collapsed": false,
    "pycharm": {
     "name": "#%%\n"
    }
   }
  },
  {
   "cell_type": "code",
   "execution_count": null,
   "outputs": [],
   "source": [
    "# 验证码识别 https://blog.csdn.net/weixin_40576010/article/details/89196671\n",
    "\n",
    "\n",
    "import time\n",
    "\n",
    "from selenium.webdriver import Chrome\n",
    "from chaojiying import Chaojiying_Client\n",
    "\n",
    "web = Chrome()\n",
    "\n",
    "web.get('http://www.chaojiying.com/user/login/')\n",
    "\n",
    "# 处理验证码\n",
    "img = web.find_element_by_xpath('/html/body/div[3]/div/div[3]/div[1]/form/div/img').screenshot_as_png\n",
    "chaojiying = Chaojiying_Client('hhhhhhhzzzzz', '123qweasd', '919033')\n",
    "yzm = chaojiying.PostPic(img, 1902)['pic_str']\n",
    "\n",
    "\n",
    "# 用户名，密码，验证码\n",
    "web.find_element_by_xpath('/html/body/div[3]/div/div[3]/div[1]/form/p[1]/input').send_keys(\"hhhhhhhzzzzz\")\n",
    "web.find_element_by_xpath('/html/body/div[3]/div/div[3]/div[1]/form/p[2]/input').send_keys(\"123qweasd\")\n",
    "web.find_element_by_xpath('/html/body/div[3]/div/div[3]/div[1]/form/p[3]/input').send_keys(yzm)\n",
    "\n",
    "time.sleep(3)\n",
    "\n",
    "# 点击登录\n",
    "web.find_element_by_xpath('/html/body/div[3]/div/div[3]/div[1]/form/p[4]/input').click()"
   ],
   "metadata": {
    "collapsed": false,
    "pycharm": {
     "name": "#%%\n"
    }
   }
  },
  {
   "cell_type": "code",
   "execution_count": null,
   "outputs": [],
   "source": [
    "# 事件 ActionChains\n",
    "# https://www.cnblogs.com/lxbmaomao/p/10389786.html"
   ],
   "metadata": {
    "collapsed": false,
    "pycharm": {
     "name": "#%%\n"
    }
   }
  }
 ],
 "metadata": {
  "kernelspec": {
   "display_name": "Python 3",
   "language": "python",
   "name": "python3"
  },
  "language_info": {
   "codemirror_mode": {
    "name": "ipython",
    "version": 2
   },
   "file_extension": ".py",
   "mimetype": "text/x-python",
   "name": "python",
   "nbconvert_exporter": "python",
   "pygments_lexer": "ipython2",
   "version": "2.7.6"
  }
 },
 "nbformat": 4,
 "nbformat_minor": 0
}