{
 "cells": [
  {
   "cell_type": "code",
   "execution_count": null,
   "metadata": {
    "collapsed": true
   },
   "outputs": [],
   "source": [
    "# m3u8 -> ts文件 -> mp4文件\n",
    "\n",
    "import requests\n",
    "import re\n",
    "\n",
    "headers = {\n",
    "    \"User-Agent\": \"Mozilla/5.0 (Macintosh; Intel Mac OS X 10_15_7) AppleWebKit/537.36 (KHTML, like Gecko) Chrome/91.0.4472.114 Safari/537.36\"\n",
    "}\n",
    "\n",
    "url = \"https://www.91kanju.com/vod-play/449-4-1.html\"\n",
    "\n",
    "obj = re.compile(r\"url: '(?P<url>.*?)',\")\n",
    "\n",
    "resp = requests.get(url, headers=headers)\n",
    "m3u8_url = obj.search(resp.text).group(\"url\")\n",
    "print(m3u8_url)\n",
    "resp.close()\n",
    "\n",
    "# 下载m3u8文件\n",
    "# resp2 = requests.get(m3u8_url, headers=headers)\n",
    "# with open(\"poi.m3u8\", mode=\"wb\") as f: # 以二进制格式打开一个文件只用于写入\n",
    "#     f.write(resp2.content)\n",
    "# resp2.close()\n",
    "\n",
    "idx = 1\n",
    "with open(\"poi.m3u8\", \"r\") as f:\n",
    "    for line in f.readlines():\n",
    "        if line[0] == \"#\":\n",
    "            continue\n",
    "        resp3 = requests.get(line.strip())\n",
    "        f = open(f\"movie/{idx}.ts\", mode=\"wb\")\n",
    "        f.write(resp3.content)\n",
    "        print(line.strip())\n",
    "        idx += 1"
   ]
  },
  {
   "cell_type": "code",
   "execution_count": null,
   "outputs": [],
   "source": [
    "# OS自带命令 mac cat 1.ts 2.ts > xxx.mp4\n",
    "# win copy /b 1.ts+2.ts+3.ts xxx.mp4\n",
    "import os\n",
    "\n",
    "ls = [\"ts1\", \"ts2\"]\n",
    "\n",
    "tss = \" \".join(ls)\n",
    "os.system(f\"cat {tss} > movie.mp4\")\n"
   ],
   "metadata": {
    "collapsed": false,
    "pycharm": {
     "name": "#%% 合并ts文件\n"
    }
   }
  },
  {
   "cell_type": "code",
   "execution_count": null,
   "outputs": [],
   "source": [],
   "metadata": {
    "collapsed": false,
    "pycharm": {
     "name": "#%%\n"
    }
   }
  }
 ],
 "metadata": {
  "kernelspec": {
   "display_name": "Python 3",
   "language": "python",
   "name": "python3"
  },
  "language_info": {
   "codemirror_mode": {
    "name": "ipython",
    "version": 2
   },
   "file_extension": ".py",
   "mimetype": "text/x-python",
   "name": "python",
   "nbconvert_exporter": "python",
   "pygments_lexer": "ipython2",
   "version": "2.7.6"
  }
 },
 "nbformat": 4,
 "nbformat_minor": 0
}