{
 "cells": [
  {
   "cell_type": "code",
   "execution_count": 3,
   "metadata": {
    "collapsed": true,
    "pycharm": {
     "name": "#%% 多线程\n"
    }
   },
   "outputs": [
    {
     "name": "stdout",
     "output_type": "stream",
     "text": [
      "funcmain 0\n",
      "func 1\n",
      " 0func 2\n",
      "func 3\n",
      "func 4\n",
      "func 5\n",
      "main 1\n",
      "main 2\n",
      "func 6\n",
      "func 7\n",
      "func 8\n",
      "func 9\n",
      "\n",
      "main 3\n",
      "main 4\n",
      "main 5\n",
      "main 6\n",
      "main 7\n",
      "main 8\n",
      "main 9\n"
     ]
    }
   ],
   "source": [
    "# 进程是资源单位，每一个进程至少要有一个线程\n",
    "# 线程是执行单位\n",
    "\n",
    "from threading import Thread\n",
    "\n",
    "def func():\n",
    "    for i in range(10):\n",
    "        print(\"func\", i)\n",
    "\n",
    "if __name__ == '__main__':\n",
    "    t = Thread(target=func)\n",
    "    t.start() # 线程可以启动了，具体执行时间由cpu决定\n",
    "    for i in range(10):\n",
    "        print(\"main\", i)\n",
    "\n",
    "# 另一种写法\n",
    "# class MyThread(Thread):\n",
    "#     def run(self):\n",
    "#         for i in range(10):\n",
    "#             print(\"func\", i)\n",
    "#\n",
    "# if __name__ == '__main__':\n",
    "#     t = MyThread()\n",
    "#     t.start()\n",
    "#     for i in range(10):\n",
    "#         print(\"main\", i)"
   ]
  },
  {
   "cell_type": "code",
   "execution_count": 5,
   "outputs": [
    {
     "name": "stdout",
     "output_type": "stream",
     "text": [
      "主进程 0\n",
      "主进程 1\n",
      "主进程 2\n",
      "主进程 3\n",
      "主进程 4\n",
      "主进程 5\n",
      "主进程 6\n",
      "主进程 7\n",
      "主进程 8\n",
      "主进程 9\n"
     ]
    }
   ],
   "source": [
    "from multiprocessing import Process\n",
    "\n",
    "# 不推荐使用\n",
    "\n",
    "def func(name):\n",
    "    for i in range(10):\n",
    "        print(name, i)\n",
    "\n",
    "if __name__ == '__main__':\n",
    "    p = Process(target=func, args=(\"进程1\",))\n",
    "    p.start()\n",
    "    p = Process(target=func, args=(\"进程2\",))\n",
    "    p.start()\n",
    "    for i in range(10):\n",
    "        print(\"主进程\", i)"
   ],
   "metadata": {
    "collapsed": false,
    "pycharm": {
     "name": "#%% 多进程\n"
    }
   }
  },
  {
   "cell_type": "code",
   "execution_count": null,
   "outputs": [],
   "source": [
    "# 线程池\n",
    "\n",
    "# 线程任务调度由线程池来完成\n",
    "\n",
    "from concurrent.futures import ThreadPoolExecutor\n",
    "\n",
    "# 进程池 ProcessPoolExecutor\n",
    "\n",
    "def fn(name):\n",
    "    for i in range(10):\n",
    "        print(name, i)\n",
    "\n",
    "if __name__ == '__main__':\n",
    "    with ThreadPoolExecutor(50) as t:\n",
    "        for i in range(10):\n",
    "            t.submit(fn, name=f\"线程{i}\")\n",
    "    # with，等待线程池任务全部执行完毕才会举行执行，线程守护\n",
    "    print(\"over\")"
   ],
   "metadata": {
    "collapsed": false,
    "pycharm": {
     "name": "#%%\n"
    }
   }
  },
  {
   "cell_type": "code",
   "execution_count": null,
   "outputs": [],
   "source": [
    "from concurrent.futures import ThreadPoolExecutor\n",
    "import requests\n",
    "from lxml import etree\n",
    "import csv\n",
    "\n",
    "f = open(\"data.csv\", mode=\"w\", encoding=\"utf-8\")\n",
    "wr = csv.writer(f)\n",
    "\n",
    "def download_one_page(url):\n",
    "    resp = requests.get(url)\n",
    "    html = etree.HTML(resp.text)\n",
    "    table = html.xpath(\"/html/body/div[2]/div[4]/div[1]/table\")[0]\n",
    "    trs = table.xpath(\"./tr\")[1:]\n",
    "    for tr in trs:\n",
    "        txt = tr.xpath(\"./td/text()\")\n",
    "        txt = list(item.replace(\"\\\\\", \"\").replace(\"|\", \"\") for item in txt)\n",
    "        wr.writerow(txt)\n",
    "    print(f\"{url} over\")\n",
    "\n",
    "if __name__ == '__main__':\n",
    "    with ThreadPoolExecutor(50) as f:\n",
    "        for i in range(1, 100):\n",
    "            download_one_page(f'http://www.xinfadi.com.cn/marketanalysis/0/list/{i}.shtml')\n",
    "    print(\"done\")"
   ],
   "metadata": {
    "collapsed": false,
    "pycharm": {
     "name": "#%% 线程池的应用\n"
    }
   }
  },
  {
   "cell_type": "code",
   "execution_count": null,
   "outputs": [],
   "source": [
    "# 协程，微线程\n",
    "import time\n",
    "import asyncio\n",
    "\n",
    "async def func1():\n",
    "    print(\"func1\")\n",
    "    # time.sleep(2) # 同步操作，异步就中断了\n",
    "    await asyncio.sleep(2) # 挂起，切到其他任务\n",
    "    print(\"func1\")\n",
    "\n",
    "async def func2():\n",
    "    print(\"func2\")\n",
    "    # time.sleep(3)\n",
    "    await asyncio.sleep(3)\n",
    "    print(\"func2\")\n",
    "\n",
    "async def func3():\n",
    "    print(\"func3\")\n",
    "    # time.sleep(4)\n",
    "    await asyncio.sleep(4)\n",
    "    print(\"func3\")\n",
    "\n",
    "async def main():\n",
    "    tasks = [\n",
    "        asyncio.create_task(func1()),\n",
    "        asyncio.create_task(func2()),\n",
    "        asyncio.create_task(func3()),\n",
    "    ]\n",
    "    await asyncio.wait(tasks)\n",
    "\n",
    "if __name__ == '__main__':\n",
    "    t1 = time.time()\n",
    "    asyncio.run(main())\n",
    "    t2 = time.time()\n",
    "    print(t2-t1)"
   ],
   "metadata": {
    "collapsed": false,
    "pycharm": {
     "name": "#%% 协程 其实也就是异步操作\n"
    }
   }
  },
  {
   "cell_type": "code",
   "execution_count": null,
   "outputs": [],
   "source": [
    "# 异步操作 pip install aiohttp\n",
    "\n",
    "import asyncio\n",
    "import aiohttp # 异步的http请求，效率高\n",
    "\n",
    "urls = [\n",
    "    'http://kr.shanghai-jiuxin.com/file/2021/0625/276b38c1489ff8d6fbcf442b309a5442.jpg',\n",
    "    'http://kr.shanghai-jiuxin.com/file/2021/0625/e6f5048c93874005041102d7a3e1b2f6.jpg',\n",
    "    'http://kr.shanghai-jiuxin.com/file/2021/0625/797c11c199cac132428510bd093bc56c.jpg'\n",
    "]\n",
    "\n",
    "\n",
    "async def aiodownload(url):\n",
    "    name = url.rsplit('/', 1)[1]  # 从右边切，切一次\n",
    "    async with aiohttp.ClientSession() as session:\n",
    "        async with session.get(url) as resp:\n",
    "            # 文件io操作可以换成 aiofiles\n",
    "            with open(\"img/\" + name, mode='wb') as f:\n",
    "                f.write(await resp.content.read())\n",
    "\n",
    "\n",
    "async def main():\n",
    "    tasks = []\n",
    "    for url in urls:\n",
    "        tasks.append(asyncio.create_task(aiodownload(url)))\n",
    "    await asyncio.wait(tasks)\n",
    "\n",
    "\n",
    "if __name__ == '__main__':\n",
    "    asyncio.run(main())"
   ],
   "metadata": {
    "collapsed": false,
    "pycharm": {
     "name": "#%%\n"
    }
   }
  },
  {
   "cell_type": "code",
   "execution_count": null,
   "outputs": [],
   "source": [
    "# 百度小说 西游记 https://dushu.baidu.com/pc/detail?gid=4306063500\n",
    "\n",
    "# 所有章节的内容\n",
    "# https://dushu.baidu.com/api/pc/getCatalog?data={%22book_id%22:%224306063500%22}\n",
    "\n",
    "# 查看每一章的内容\n",
    "# https://dushu.baidu.com/api/pc/getChapterContent\n",
    "# data: {\"book_id\":\"4306063500\",\"cid\":\"4306063500|11348571\",\"need_bookinfo\":1}\n",
    "\n",
    "import json\n",
    "\n",
    "import requests\n",
    "import asyncio\n",
    "import aiofiles\n",
    "import aiohttp\n",
    "\n",
    "# async 异步的意思\n",
    "# 同步操作获取所有章节的cid和名称\n",
    "# 再异步访问所有章节的链接，下载文章内容\n",
    "\n",
    "async def aiodownload(cid, title):\n",
    "    data = {\n",
    "        \"book_id\": \"4306063500\",\n",
    "        \"cid\": f\"4306063500|{cid}\",\n",
    "        \"need_bookinfo\": 1\n",
    "    }\n",
    "    data = json.dumps(data)  # 将python对象编码成Json字符串\n",
    "    url = f\"https://dushu.baidu.com/api/pc/getChapterContent?data={data}\"\n",
    "    async with aiohttp.ClientSession() as session:\n",
    "        async with session.get(url) as resp:\n",
    "            dic = await resp.json()\n",
    "\n",
    "            async with aiofiles.open(\"西游记/\" + title, mode=\"w\", encoding=\"utf-8\") as f:\n",
    "                await f.write(dic[\"data\"][\"novel\"][\"content\"])\n",
    "\n",
    "\n",
    "async def getCatalog(url):\n",
    "    resp = requests.get(url)\n",
    "    dic = resp.json()\n",
    "    tasks = []\n",
    "    for item in dic['data']['novel']['items']:\n",
    "        title = item[\"title\"]\n",
    "        cid = item[\"cid\"]\n",
    "        print(title, cid)\n",
    "        tasks.append(asyncio.create_task(aiodownload(cid, title)))\n",
    "    await asyncio.wait(tasks)\n",
    "\n",
    "\n",
    "if __name__ == '__main__':\n",
    "    url = \"\"r\"https://dushu.baidu.com/api/pc/getCatalog?data={%22book_id%22:%224306063500%22}\"\n",
    "    asyncio.run(getCatalog(url))\n"
   ],
   "metadata": {
    "collapsed": false,
    "pycharm": {
     "name": "#%%\n"
    }
   }
  }
 ],
 "metadata": {
  "kernelspec": {
   "display_name": "Python 3",
   "language": "python",
   "name": "python3"
  },
  "language_info": {
   "codemirror_mode": {
    "name": "ipython",
    "version": 2
   },
   "file_extension": ".py",
   "mimetype": "text/x-python",
   "name": "python",
   "nbconvert_exporter": "python",
   "pygments_lexer": "ipython2",
   "version": "2.7.6"
  }
 },
 "nbformat": 4,
 "nbformat_minor": 0
}